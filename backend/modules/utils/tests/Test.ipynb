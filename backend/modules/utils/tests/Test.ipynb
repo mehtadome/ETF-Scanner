{
 "cells": [
  {
   "cell_type": "code",
   "execution_count": null,
   "id": "512cdf2a",
   "metadata": {},
   "outputs": [],
   "source": [
    "import pandas as pd"
   ]
  },
  {
   "cell_type": "code",
   "execution_count": null,
   "id": "8899d386",
   "metadata": {},
   "outputs": [],
   "source": [
    "import functions as test_functions\n",
    "try:\n",
    "    # Basic DFs\n",
    "    test_functions.test_etf_df()\n",
    "    test_functions.test_mf_df()\n",
    "    test_functions.test_haunted_df()\n",
    "\n",
    "except Exception as e:\n",
    "    print(f\"Error: {e}\")"
   ]
  },
  {
   "cell_type": "code",
   "execution_count": null,
   "id": "8f8acbc8",
   "metadata": {},
   "outputs": [],
   "source": [
    "try:\n",
    "    # Advanced DFs\n",
    "    print(\"The following is the combined dataframes.\\n\")\n",
    "    combined_data = test_functions.combine_sheets_data_safe()\n",
    "    combined_data.columns = combined_data.columns.str.strip()\n",
    "    print(f\"Combined column names are {combined_data.columns}\\n\")\n",
    "    print(combined_data.head())\n",
    "    # for i in df_test['1 Yr Return']:\n",
    "    #     print(\"value is\", i)\n",
    "\n",
    "except Exception as e:\n",
    "    print(f\"Error: {e}\")"
   ]
  },
  {
   "cell_type": "code",
   "execution_count": null,
   "id": "069f8d27",
   "metadata": {},
   "outputs": [],
   "source": []
  }
 ],
 "metadata": {
  "kernelspec": {
   "display_name": ".venv",
   "language": "python",
   "name": "python3"
  },
  "language_info": {
   "codemirror_mode": {
    "name": "ipython",
    "version": 3
   },
   "file_extension": ".py",
   "mimetype": "text/x-python",
   "name": "python",
   "nbconvert_exporter": "python",
   "pygments_lexer": "ipython3",
   "version": "3.12.4"
  }
 },
 "nbformat": 4,
 "nbformat_minor": 5
}
